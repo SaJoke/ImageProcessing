{
 "cells": [
  {
   "cell_type": "code",
   "execution_count": 227,
   "id": "1a51081f",
   "metadata": {},
   "outputs": [],
   "source": [
    "import cv2,numpy\n",
    "height,width = 480,720\n",
    "image = 100*numpy.ones((height,width), numpy.uint8)\n",
    "image = cv2.rectangle(image, (width//4,height//4), (3*width//4,3*height//4), color=(255,255,255), thickness=-1)\n",
    "   \n",
    "# Displaying the image\n",
    "#cv2.namedWindow('Orginal', cv2.WINDOW_NORMAL)\n",
    "cv2.imshow('Orginal', image) \n",
    "cv2.waitKey(0)\n",
    "cv2.destroyAllWindows()"
   ]
  },
  {
   "cell_type": "markdown",
   "id": "a23dffc3",
   "metadata": {},
   "source": [
    "# Warp Affine with bilinear interpolation"
   ]
  },
  {
   "cell_type": "code",
   "execution_count": 257,
   "id": "3eca5aa2",
   "metadata": {},
   "outputs": [],
   "source": [
    "from math import floor,ceil,sqrt,cos,sin,pi\n",
    "\n",
    "theta = 0\n",
    "Ar = numpy.array([[cos(theta),-sin(theta)],[sin(theta),cos(theta)]]) \n",
    "\n",
    "s1 = 2\n",
    "s2 = 2\n",
    "Asc = numpy.array([[s1,0],[0,s2]])\n",
    "\n",
    "S = 1\n",
    "Ash = numpy.array([[1,0],[S,1]])\n",
    "\n",
    "A = (Ar.dot(Asc)).dot(Ash)\n",
    "\n",
    "#A = numpy.array([[1,-1],[1,1]]) \n",
    "Ainv = numpy.linalg.inv(A)\n",
    "center = numpy.array([height/2,width/2])\n",
    "b = center-A.dot(center)\n",
    "b += numpy.array([0,0])\n",
    "\n",
    "\n",
    "\n",
    "registImg = numpy.zeros((height,width), numpy.uint8)\n",
    "for i in range(height):\n",
    "    for j in range(width):\n",
    "        #coList = Ainv.dot(numpy.array([i,j])-b)\n",
    "        coList = A.dot(numpy.array([i,j]))+b\n",
    "        x,y = coList[0],coList[1]\n",
    "        \n",
    "        #Interpolation\n",
    "        if x>=0 and x<=height-1 and y>=0 and y<=width-1:            \n",
    "            cx = ceil(x)\n",
    "            fx = floor(x)\n",
    "            cy = ceil(y)\n",
    "            fy = floor(y)\n",
    "            if cx==fx:\n",
    "                dxf = 1/2\n",
    "                dxb = 1/2\n",
    "            else:\n",
    "                dxf = cx-x\n",
    "                dxb = x-fx\n",
    "            if cy==fy:\n",
    "                dyf = 1/2\n",
    "                dyb = 1/2\n",
    "            else:\n",
    "                dyf = cy-y\n",
    "                dyb = y-fy\n",
    "            registImg[i][j] = dyb*dxb*image[cx][cy]+dyb*dxf*image[fx][cy]+dyf*dxb*image[cx][fy]+dyf*dxf*image[fx][fy]\n",
    "            \n",
    "#cv2.namedWindow('RegistImg', cv2.WINDOW_NORMAL)\n",
    "cv2.imshow('RegistImg', registImg) \n",
    "cv2.waitKey(0)\n",
    "cv2.destroyAllWindows()"
   ]
  },
  {
   "cell_type": "markdown",
   "id": "e9fb8a66",
   "metadata": {},
   "source": [
    "# Vector Field"
   ]
  },
  {
   "cell_type": "code",
   "execution_count": 258,
   "id": "5195d41c",
   "metadata": {},
   "outputs": [],
   "source": [
    "nx = 10\n",
    "ny = 15\n",
    "hx = height//nx\n",
    "hy = width//ny\n",
    "px = []\n",
    "py = []\n",
    "tx = []\n",
    "ty = []\n",
    "vecField = numpy.zeros((height,width))\n",
    "for i in range(1,nx):\n",
    "    for j in range(1,ny):\n",
    "        px.append(i*hx)\n",
    "        py.append(j*hy)\n",
    "        #dstP = A.dot(numpy.array([i*hx,j*hy]))+b\n",
    "        dstP = Ainv.dot(numpy.array([i*hx,j*hy])-b)\n",
    "        tx.append(dstP[0])\n",
    "        ty.append(dstP[1])\n",
    "        \n",
    "px = numpy.array(px)\n",
    "py = numpy.array(py)\n",
    "tx = numpy.array(tx)\n",
    "ty = numpy.array(ty)\n",
    "\n",
    "mt = ((tx-px)**2+(ty-py)**2)**(1/2)\n",
    "maxt = numpy.max(mt)/numpy.min([hx,hy])\n",
    "\n",
    "for k in range(0,(nx-1)*(ny-1)):\n",
    "        cv2.arrowedLine(vecField,(py[k],px[k]),(floor(py[k]+0.5+(ty[k]-py[k])/maxt),floor(px[k]+0.5+(tx[k]-px[k])/maxt)),(255,255,255),1,8,0,0.2)\n",
    "        \n",
    "#cv2.namedWindow('Field', cv2.WINDOW_NORMAL)\n",
    "cv2.imshow('Field', vecField) \n",
    "cv2.waitKey(0)\n",
    "cv2.destroyAllWindows()"
   ]
  },
  {
   "cell_type": "code",
   "execution_count": 259,
   "id": "97e80cd8",
   "metadata": {},
   "outputs": [],
   "source": [
    "com = numpy.vstack((registImg,numpy.uint8(vecField)))\n",
    "cv2.namedWindow('com', cv2.WINDOW_NORMAL)\n",
    "cv2.imshow('com', com) \n",
    "cv2.waitKey(0)\n",
    "cv2.destroyAllWindows()"
   ]
  }
 ],
 "metadata": {
  "kernelspec": {
   "display_name": "Python 3 (ipykernel)",
   "language": "python",
   "name": "python3"
  },
  "language_info": {
   "codemirror_mode": {
    "name": "ipython",
    "version": 3
   },
   "file_extension": ".py",
   "mimetype": "text/x-python",
   "name": "python",
   "nbconvert_exporter": "python",
   "pygments_lexer": "ipython3",
   "version": "3.8.11"
  }
 },
 "nbformat": 4,
 "nbformat_minor": 5
}
