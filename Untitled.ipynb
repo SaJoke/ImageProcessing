{
 "cells": [
  {
   "cell_type": "code",
   "execution_count": null,
   "id": "2598e92b",
   "metadata": {},
   "outputs": [],
   "source": [
    "# -*- coding: utf-8 -*-\n",
    "\"\"\"\n",
    "Circle to C registration.\n",
    "\n",
    "@author: Xinzhe Luo\n",
    "\"\"\"\n",
    "\n",
    "import os\n",
    "import numpy as np\n",
    "import tensorflow as tf\n",
    "from trainer_3d import _load_data, _one_hot_label, Trainer\n",
    "\n",
    "target_path = './data/C.png'\n",
    "source_path = './data/circle.png'\n",
    "\n",
    "if __name__ == '__main__':\n",
    "    # set working directory\n",
    "    print(\"Working directory: %s\" % os.getcwd())\n",
    "    os.chdir('../')\n",
    "    print(\"Working directory changed to %s\" % os.getcwd())\n",
    "\n",
    "    # set saving directory\n",
    "    model_path = 'circle2C_model_trained'\n",
    "    prediction_path = 'circle2C_prediction'\n",
    "\n",
    "    # load data\n",
    "    target_image = _load_data(target_path, data_format='png', image_size=(592, 592))\n",
    "    source_image = _load_data(source_path, data_format='png', image_size=(592, 592))\n",
    "\n",
    "    target_label = _one_hot_label(target_image, labels=(0, 255))\n",
    "    source_label = _one_hot_label(source_image, labels=(0, 255))\n",
    "\n",
    "    training_data = {'target_image': target_image, 'target_label': target_label,\n",
    "                     'source_image': source_image, 'source_label': source_label,\n",
    "                     'target_affine': np.eye(4), 'target_header': None\n",
    "                     }\n",
    "\n",
    "\n",
    "    with tf.Graph().as_default(), tf.device('/cpu:0'):\n",
    "        # trainer\n",
    "        trainer = Trainer(input_size=(592, 592, 5), num_channels=1, num_classes=2,\n",
    "                          demons_type='additive', demons_force='moving', normalization='z-score',\n",
    "                          max_length=2., exp_steps=7)\n",
    "\n",
    "        metrics, save_path = trainer.train(training_data, training_iters=500,\n",
    "                                           display_steps=5,\n",
    "                                           model_path=model_path,\n",
    "                                           prediction_path=prediction_path)"
   ]
  }
 ],
 "metadata": {
  "kernelspec": {
   "display_name": "TensorFlow2-GPU",
   "language": "python",
   "name": "tf2"
  },
  "language_info": {
   "codemirror_mode": {
    "name": "ipython",
    "version": 3
   },
   "file_extension": ".py",
   "mimetype": "text/x-python",
   "name": "python",
   "nbconvert_exporter": "python",
   "pygments_lexer": "ipython3",
   "version": "3.7.11"
  }
 },
 "nbformat": 4,
 "nbformat_minor": 5
}
