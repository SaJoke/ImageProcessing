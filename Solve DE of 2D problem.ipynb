{
 "cells": [
  {
   "cell_type": "code",
   "execution_count": 1,
   "id": "c6d1c74e",
   "metadata": {},
   "outputs": [],
   "source": [
    "import numpy, math, time\n",
    "from JokeFunc import LinSys\n",
    "from importlib import reload\n",
    "LinSys = reload(LinSys)"
   ]
  },
  {
   "cell_type": "markdown",
   "id": "23bd200b",
   "metadata": {},
   "source": [
    "# Find linear system (Ax = B) of 2D problem"
   ]
  },
  {
   "cell_type": "code",
   "execution_count": 2,
   "id": "919c01b4",
   "metadata": {
    "scrolled": true
   },
   "outputs": [],
   "source": [
    "#Problem function F(u)=f(x,y)\n",
    "def f(x,y):\n",
    "    return 4*(math.pi)*(math.pi)*math.sin(2*math.pi*x)*y*y*(1-y)*(1-y)-math.sin(2*math.pi*x)*(2-12*y+12*y*y)\n",
    "\n",
    "#Boundary Conditions\n",
    "def bf(x,y):\n",
    "    return 0\n",
    "\n",
    "#Setup variables\n",
    "nx = 70 #number_intervals for x\n",
    "ax = 0\n",
    "bx = 1\n",
    "hx = (bx-ax)/nx\n",
    "hx2 = hx*hx\n",
    "\n",
    "ny = 70 #number_intervals for y\n",
    "ay = 0\n",
    "by = 1\n",
    "hy = (by-ay)/ny\n",
    "hy2 = hy*hy\n",
    "\n",
    "'''approximated coefficient \n",
    "[[(c_i-1,j-1),(c_i-1,j),(c_i-1,j+1)]\n",
    " [ (c_i,j-1) , (c_i,j) , (c_i,j+1) ]\n",
    " [(c_i+1,j-1),(c_i+1,j),(c_i+1,j+1)]]\n",
    "'''\n",
    "C = [[   0   , -1/hx2     ,   0   ],\n",
    "     [ -1/hy2, 2/hx2+2/hy2, -1/hy2],\n",
    "     [   0   , -1/hx2     ,   0   ]]\n",
    "\n",
    "A = numpy.zeros(((nx-1)*(ny-1),(nx-1)*(ny-1)))\n",
    "B = numpy.zeros((nx-1)*(ny-1))\n",
    "for i in range(nx-1):\n",
    "    for j in range(ny-1):    \n",
    "        T = numpy.zeros((nx+1,ny+1))\n",
    "        T[i:i+3,j:j+3] = C\n",
    "        Aij = T[1:-1,1:-1]\n",
    "        A[i*(ny-1)+j] = Aij.reshape(Aij.size)\n",
    "        s = 0\n",
    "        if i*j==0 or i==nx-2 or j==ny-2:\n",
    "            BC = numpy.array([[bf(ax+(i+0)*hx,ay+(j+0)*hy),bf(ax+(i+0)*hx,ay+(j+1)*hy),bf(ax+(i+0)*hx,ay+(j+2)*hy)],\n",
    "                              [bf(ax+(i+1)*hx,ay+(j+0)*hy),            0              ,bf(ax+(i+1)*hx,ay+(j+2)*hy)],\n",
    "                              [bf(ax+(i+2)*hx,ay+(j+0)*hy),bf(ax+(i+2)*hx,ay+(j+1)*hy),bf(ax+(i+2)*hx,ay+(j+2)*hy)]])\n",
    "            T[1:-1,1:-1] = numpy.zeros_like(T[1:-1,1:-1])\n",
    "            s = numpy.sum(BC*T[i:i+3,j:j+3])\n",
    "        \n",
    "        B[i*(ny-1)+j] = f(ax+(i+1)*hx,ay+(j+1)*hy) - s"
   ]
  },
  {
   "cell_type": "markdown",
   "id": "1cff531f",
   "metadata": {},
   "source": [
    "# Compare solution\n",
    "##### default variable\n",
    "\n",
    "Imax = 10000\n",
    "\n",
    "x0 = zero vector\n",
    "\n",
    "eps = 1e-3\n",
    "\n",
    "weight = 1"
   ]
  },
  {
   "cell_type": "markdown",
   "id": "7ac14f66",
   "metadata": {},
   "source": [
    "## 1. Exact solution"
   ]
  },
  {
   "cell_type": "code",
   "execution_count": 3,
   "id": "43083c39",
   "metadata": {},
   "outputs": [
    {
     "data": {
      "text/plain": [
       "(4761,)"
      ]
     },
     "execution_count": 3,
     "metadata": {},
     "output_type": "execute_result"
    }
   ],
   "source": [
    "B\n",
    "x1 = numpy.zeros_like(B)\n",
    "x1.shape"
   ]
  },
  {
   "cell_type": "code",
   "execution_count": 4,
   "id": "9384edcb",
   "metadata": {},
   "outputs": [],
   "source": [
    "e = math.e\n",
    "def ef(x,y):\n",
    "    return math.sin(2*math.pi*x)*y*y*(1-y)*(1-y)\n",
    "x1 = numpy.zeros_like(B)\n",
    "for i in range(nx-1):\n",
    "    for j in range(ny-1):\n",
    "        x1[i*(ny-1)+j] = ef(ax+hx*(i+1),ay+hy*(j+1))"
   ]
  },
  {
   "cell_type": "markdown",
   "id": "7089fa7d",
   "metadata": {},
   "source": [
    "## 2. Solution from x = inv(A)*b"
   ]
  },
  {
   "cell_type": "code",
   "execution_count": 5,
   "id": "f2913969",
   "metadata": {},
   "outputs": [
    {
     "name": "stdout",
     "output_type": "stream",
     "text": [
      "1.5829095840454102\n"
     ]
    }
   ],
   "source": [
    "t = time.time()\n",
    "x2 = (numpy.linalg.inv(A)).dot(B)\n",
    "print(time.time()-t)"
   ]
  },
  {
   "cell_type": "markdown",
   "id": "5646f0d8",
   "metadata": {},
   "source": [
    "## 3.Solution by weighted Jacobi iteration"
   ]
  },
  {
   "cell_type": "code",
   "execution_count": 6,
   "id": "5dcc9903",
   "metadata": {},
   "outputs": [
    {
     "name": "stdout",
     "output_type": "stream",
     "text": [
      "max time ~ 112.22446894645691\n",
      "solution dosen't change\n",
      "7.254476308822632\n"
     ]
    }
   ],
   "source": [
    "t = time.time()\n",
    "x3 = LinSys.wJacobi(A,B)\n",
    "print(time.time()-t)"
   ]
  },
  {
   "cell_type": "markdown",
   "id": "e00bb897",
   "metadata": {},
   "source": [
    "## 4.Solution by SOR"
   ]
  },
  {
   "cell_type": "code",
   "execution_count": 7,
   "id": "6ea9fc42",
   "metadata": {},
   "outputs": [
    {
     "name": "stdout",
     "output_type": "stream",
     "text": [
      "max time ~ 162.79338026046753\n",
      "solution dosen't change\n",
      "9.441317081451416\n"
     ]
    }
   ],
   "source": [
    "t = time.time()\n",
    "x4 = LinSys.SOR(A,B,weight=1)\n",
    "print(time.time()-t)"
   ]
  },
  {
   "cell_type": "markdown",
   "id": "c601f129",
   "metadata": {},
   "source": [
    "## 5.Solution by gradiant method"
   ]
  },
  {
   "cell_type": "code",
   "execution_count": 8,
   "id": "86329db6",
   "metadata": {
    "scrolled": true
   },
   "outputs": [
    {
     "name": "stdout",
     "output_type": "stream",
     "text": [
      "max time ~ 109.35931539535522\n",
      "solution dosen't change\n",
      "33.071080923080444\n"
     ]
    }
   ],
   "source": [
    "t = time.time()\n",
    "x5 = LinSys.GM(A,B)\n",
    "print(time.time()-t)"
   ]
  },
  {
   "cell_type": "markdown",
   "id": "793e0bed",
   "metadata": {},
   "source": [
    "## 6.Solution by conjugate gradiant method"
   ]
  },
  {
   "cell_type": "code",
   "execution_count": 9,
   "id": "06eabb9c",
   "metadata": {},
   "outputs": [
    {
     "name": "stdout",
     "output_type": "stream",
     "text": [
      "solution converges\n",
      "0.4432554244995117\n"
     ]
    }
   ],
   "source": [
    "t = time.time()\n",
    "x6 = LinSys.CG(A,B,eps=1e-10)\n",
    "print(time.time()-t)"
   ]
  },
  {
   "cell_type": "markdown",
   "id": "be58e43f",
   "metadata": {},
   "source": [
    "# Compare solution with exact solution"
   ]
  },
  {
   "cell_type": "code",
   "execution_count": 10,
   "id": "683c6185",
   "metadata": {},
   "outputs": [
    {
     "name": "stdout",
     "output_type": "stream",
     "text": [
      "Inverse \t\t 0.0014161180076455668\n",
      "weighted Jacobi \t 0.39448233699992513\n",
      "SOR \t\t\t 0.19704366970791637\n",
      "gradiant method \t 0.7886798296989036\n",
      "conjugate gradiant \t 0.0014161180076523682\n"
     ]
    }
   ],
   "source": [
    "print('Inverse \\t\\t',numpy.linalg.norm(x1-x2))\n",
    "print('weighted Jacobi \\t',numpy.linalg.norm(x1-x3))\n",
    "print('SOR \\t\\t\\t',numpy.linalg.norm(x1-x4))\n",
    "print('gradiant method \\t',numpy.linalg.norm(x1-x5))\n",
    "print('conjugate gradiant \\t',numpy.linalg.norm(x1-x6))"
   ]
  }
 ],
 "metadata": {
  "kernelspec": {
   "display_name": "Python 3 (ipykernel)",
   "language": "python",
   "name": "python3"
  },
  "language_info": {
   "codemirror_mode": {
    "name": "ipython",
    "version": 3
   },
   "file_extension": ".py",
   "mimetype": "text/x-python",
   "name": "python",
   "nbconvert_exporter": "python",
   "pygments_lexer": "ipython3",
   "version": "3.8.11"
  }
 },
 "nbformat": 4,
 "nbformat_minor": 5
}
