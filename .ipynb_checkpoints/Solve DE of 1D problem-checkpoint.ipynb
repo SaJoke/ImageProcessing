{
 "cells": [
  {
   "cell_type": "code",
   "execution_count": 26,
   "id": "c6d1c74e",
   "metadata": {},
   "outputs": [],
   "source": [
    "import numpy, math, time\n",
    "from JokeFunc import LinSys\n",
    "from importlib import reload\n",
    "from scipy import sparse\n",
    "LinSys = reload(LinSys)"
   ]
  },
  {
   "cell_type": "markdown",
   "id": "23bd200b",
   "metadata": {},
   "source": [
    "# Find linear system (Ax = B) of 1D problem"
   ]
  },
  {
   "cell_type": "code",
   "execution_count": 2,
   "id": "a1aa4c46",
   "metadata": {
    "scrolled": true
   },
   "outputs": [],
   "source": [
    "#Problem function F(u)=f(x)\n",
    "def f(x):\n",
    "    return 1-x\n",
    "\n",
    "#Boundary Conditions\n",
    "def bf(x):\n",
    "    return 3-4*x\n",
    "\n",
    "#Setup variables\n",
    "number_intervals = 1000\n",
    "a = 0\n",
    "b = 1\n",
    "h = (b-a)/number_intervals\n",
    "h2 = h*h\n",
    "\n",
    "#approximated function (c_i-1)(u_i-1)+(c_i)(u_i)+(c_i+1)(u_i+1)=f(x)\n",
    "#Enter ONLY c_i-1,c_i,c_i+1\n",
    "C = [-1/h2, 2/h2+1, -1/h2]\n",
    "A = numpy.zeros((number_intervals-1,number_intervals+1)) \n",
    "\n",
    "B = numpy.zeros(number_intervals-1)\n",
    "for i in range(number_intervals-1):\n",
    "    A[i,i:i+3] = C\n",
    "    B[i] = f(a+h*(i+1))\n",
    "\n",
    "A = A[:,1:number_intervals]\n",
    "B[0] -= bf(a)*C[0]\n",
    "B[-1] -= bf(b)*C[-1]"
   ]
  },
  {
   "cell_type": "markdown",
   "id": "1cff531f",
   "metadata": {},
   "source": [
    "# Compare solution\n",
    "##### default variable\n",
    "\n",
    "Imax = 10000\n",
    "\n",
    "x0 = zero vector\n",
    "\n",
    "eps = 1e-3\n",
    "\n",
    "weight = 1"
   ]
  },
  {
   "cell_type": "markdown",
   "id": "d9f5b639",
   "metadata": {},
   "source": [
    "## 1. Exact solution"
   ]
  },
  {
   "cell_type": "code",
   "execution_count": 3,
   "id": "27d77436",
   "metadata": {},
   "outputs": [],
   "source": [
    "e = math.e\n",
    "def ef(x):\n",
    "    c1 = (2+e)/(1-e*e)\n",
    "    c2 = 2-(2+e)/(1-e*e)\n",
    "    return c1*math.pow(e,x)+c2*math.pow(e,-x)-x+1\n",
    "x1 = numpy.zeros(number_intervals-1)\n",
    "for i in range(number_intervals-1):\n",
    "    x1[i] = ef(a+h*(i+1))"
   ]
  },
  {
   "cell_type": "markdown",
   "id": "313e0838",
   "metadata": {},
   "source": [
    "## 2. Solution from x = inv(A)*b"
   ]
  },
  {
   "cell_type": "code",
   "execution_count": 4,
   "id": "d83810b7",
   "metadata": {},
   "outputs": [
    {
     "name": "stdout",
     "output_type": "stream",
     "text": [
      "0.028867483139038086\n"
     ]
    }
   ],
   "source": [
    "t = time.time()\n",
    "x2 = (numpy.linalg.inv(A)).dot(B)\n",
    "print(time.time()-t)"
   ]
  },
  {
   "cell_type": "markdown",
   "id": "0fd25b4f",
   "metadata": {},
   "source": [
    "## 3.Solution by weighted Jacobi iteration"
   ]
  },
  {
   "cell_type": "code",
   "execution_count": 5,
   "id": "13a98c72",
   "metadata": {},
   "outputs": [
    {
     "name": "stdout",
     "output_type": "stream",
     "text": [
      "max time ~ 6.464541435241699\n",
      "exceed iteration\n",
      "6.43365216255188\n"
     ]
    }
   ],
   "source": [
    "t = time.time()\n",
    "x3 = LinSys.wJacobi(A,B)\n",
    "print(time.time()-t)"
   ]
  },
  {
   "cell_type": "markdown",
   "id": "605807c1",
   "metadata": {},
   "source": [
    "## 4.Solution by SOR"
   ]
  },
  {
   "cell_type": "code",
   "execution_count": 25,
   "id": "9004f6d3",
   "metadata": {},
   "outputs": [
    {
     "name": "stdout",
     "output_type": "stream",
     "text": [
      "max time ~ 4.738279581069946\n",
      "solution dosen't change\n",
      "4.720652341842651\n"
     ]
    }
   ],
   "source": [
    "t = time.time()\n",
    "x4 = LinSys.SOR(A,B,weight=1)\n",
    "print(time.time()-t)"
   ]
  },
  {
   "cell_type": "markdown",
   "id": "dfb8e1aa",
   "metadata": {},
   "source": [
    "## 4.5 Solution by SOR with sparse"
   ]
  },
  {
   "cell_type": "code",
   "execution_count": 24,
   "id": "f1a90ef9",
   "metadata": {},
   "outputs": [
    {
     "name": "stdout",
     "output_type": "stream",
     "text": [
      "max time ~ 4.767306089401245\n",
      "solution dosen't change\n",
      "4.7404961585998535\n"
     ]
    }
   ],
   "source": [
    "t = time.time()\n",
    "x45 = LinSys.SOR(sparse.csc_matrix(A),B,weight=1)\n",
    "print(time.time()-t)"
   ]
  },
  {
   "cell_type": "markdown",
   "id": "77c0f6cb",
   "metadata": {},
   "source": [
    "## 5.Solution by gradiant method"
   ]
  },
  {
   "cell_type": "code",
   "execution_count": 9,
   "id": "05735303",
   "metadata": {},
   "outputs": [
    {
     "name": "stdout",
     "output_type": "stream",
     "text": [
      "solution dosen't change\n",
      "2.5329244136810303\n"
     ]
    }
   ],
   "source": [
    "t = time.time()\n",
    "x5 = LinSys.GM(A,B)\n",
    "print(time.time()-t)"
   ]
  },
  {
   "cell_type": "markdown",
   "id": "60f5583a",
   "metadata": {},
   "source": [
    "## 6.Solution by conjugate gradiant method"
   ]
  },
  {
   "cell_type": "code",
   "execution_count": 10,
   "id": "7f0eb6eb",
   "metadata": {},
   "outputs": [
    {
     "name": "stdout",
     "output_type": "stream",
     "text": [
      "solution converges\n",
      "0.31010007858276367\n"
     ]
    }
   ],
   "source": [
    "t = time.time()\n",
    "x6 = LinSys.CG(A,B,eps=1e0)\n",
    "print(time.time()-t)"
   ]
  },
  {
   "cell_type": "markdown",
   "id": "a964d1ea",
   "metadata": {},
   "source": [
    "# Compare solution with exact solution"
   ]
  },
  {
   "cell_type": "code",
   "execution_count": 21,
   "id": "46316e16",
   "metadata": {},
   "outputs": [
    {
     "name": "stdout",
     "output_type": "stream",
     "text": [
      "Inverse \t\t 1.0822206658981406e-07\n",
      "weighted Jacobi \t 35.571575605753736\n",
      "SOR \t\t\t 31.048445725843244\n",
      "SOR sparse \t\t 31.048445725843244\n",
      "gradiant method \t 40.578418076779066\n",
      "conjugate gradiant \t 1.0822511903512848e-07\n"
     ]
    }
   ],
   "source": [
    "print('Inverse \\t\\t',numpy.linalg.norm(x1-x2))\n",
    "print('weighted Jacobi \\t',numpy.linalg.norm(x1-x3))\n",
    "print('SOR \\t\\t\\t',numpy.linalg.norm(x1-x4))\n",
    "print('SOR sparse \\t\\t',numpy.linalg.norm(x1-x45))\n",
    "print('gradiant method \\t',numpy.linalg.norm(x1-x5))\n",
    "print('conjugate gradiant \\t',numpy.linalg.norm(x1-x6))"
   ]
  }
 ],
 "metadata": {
  "kernelspec": {
   "display_name": "Python 3 (ipykernel)",
   "language": "python",
   "name": "python3"
  },
  "language_info": {
   "codemirror_mode": {
    "name": "ipython",
    "version": 3
   },
   "file_extension": ".py",
   "mimetype": "text/x-python",
   "name": "python",
   "nbconvert_exporter": "python",
   "pygments_lexer": "ipython3",
   "version": "3.8.11"
  }
 },
 "nbformat": 4,
 "nbformat_minor": 5
}
